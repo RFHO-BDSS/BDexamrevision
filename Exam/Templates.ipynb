{
 "cells": [
  {
   "cell_type": "markdown",
   "metadata": {},
   "source": [
    "Plots"
   ]
  },
  {
   "cell_type": "code",
   "execution_count": null,
   "metadata": {
    "collapsed": true
   },
   "outputs": [],
   "source": [
    "# Plot an array as a line plot\n",
    "# x are the values on the x-axis, y on the y axis\n",
    "# np.arange makes a list with values from min to max with a stepsize of s\n",
    "\n",
    "x  = np.arange(min, max, s)\n",
    "plt.figure(1)\n",
    "plt.plot(x,y)\n",
    "plt.show()\n",
    "\n",
    "# Plot circles\n",
    "c1 = plt.Circle((0,0), 15, alpha=0.5)\n",
    "c2 = plt.Circle((0,20), 15, alpha=0.5)\n",
    "c3 = plt.Circle((20,10), 15, alpha=0.5)\n",
    "fig,ax=plt.subplots()\n",
    "# set limits of figure\n",
    "plt.xlim(-16,36)\n",
    "plt.ylim(-16,36)\n",
    "\n",
    "ax.add_artist(c1)\n",
    "ax.add_artist(c2)\n",
    "ax.add_artist(c3)\n",
    "\n",
    "plt.show()\n",
    "\n",
    "# Plot Histogram from array\n",
    "plt.hist(array, bins=10)\n",
    "plt.show()"
   ]
  }
 ],
 "metadata": {
  "anaconda-cloud": {},
  "kernelspec": {
   "display_name": "Python [conda root]",
   "language": "python",
   "name": "conda-root-py"
  },
  "language_info": {
   "codemirror_mode": {
    "name": "ipython",
    "version": 3
   },
   "file_extension": ".py",
   "mimetype": "text/x-python",
   "name": "python",
   "nbconvert_exporter": "python",
   "pygments_lexer": "ipython3",
   "version": "3.5.2"
  }
 },
 "nbformat": 4,
 "nbformat_minor": 1
}
