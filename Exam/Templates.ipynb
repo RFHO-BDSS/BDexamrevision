{
 "cells": [
  {
   "cell_type": "code",
   "execution_count": null,
   "metadata": {
    "collapsed": true
   },
   "outputs": [],
   "source": [
    "import scipy.constants\n",
    "import numpy as np\n",
    "import matplotlib.pyplot as plt\n",
    "import math\n",
    "import csv\n",
    "import scipy as sp\n",
    "from scipy.optimize import minimize\n",
    "from matplotlib.patches import Ellipse"
   ]
  },
  {
   "cell_type": "markdown",
   "metadata": {},
   "source": [
    "**Plots**"
   ]
  },
  {
   "cell_type": "code",
   "execution_count": null,
   "metadata": {
    "collapsed": true
   },
   "outputs": [],
   "source": [
    "# Plot an array as a line plot\n",
    "# x are the values on the x-axis, y on the y axis\n",
    "# np.arange makes a list with values from min to max with a stepsize of s\n",
    "\n",
    "x  = np.arange(min, max, s)\n",
    "plt.figure(1)\n",
    "plt.plot(x,y)\n",
    "plt.show()\n",
    "\n",
    "# Plot circles\n",
    "c1 = plt.Circle((0,0), 15, alpha=0.5)\n",
    "c2 = plt.Circle((0,20), 15, alpha=0.5)\n",
    "c3 = plt.Circle((20,10), 15, alpha=0.5)\n",
    "fig,ax=plt.subplots()\n",
    "plt.xlim(-16,36) # set x-limit of figure\n",
    "plt.ylim(-16,36) # set y-limit of figure\n",
    "\n",
    "ax.add_artist(c1)\n",
    "ax.add_artist(c2)\n",
    "ax.add_artist(c3)\n",
    "\n",
    "plt.show()\n",
    "\n",
    "# Plot Histogram from array\n",
    "plt.hist(array, bins=10)\n",
    "plt.show()\n",
    "\n",
    "# Plot ellipse\n",
    "# position is the x,y position in the plot\n",
    "e = Ellipse(position, width = stdsx, height=stdsy)\n",
    "plt.gca().add_artist(e) \n",
    "e.set_alpha(0.2) # set opacity (transparancy) of the ellipse\n",
    "e.set_facecolor('g') # g = green, r = red, etc\n",
    "plt.title('Title of the plot')\n",
    "plt.show()"
   ]
  },
  {
   "cell_type": "markdown",
   "metadata": {},
   "source": [
    "**Chi squared**"
   ]
  },
  {
   "cell_type": "code",
   "execution_count": null,
   "metadata": {
    "collapsed": true
   },
   "outputs": [],
   "source": [
    "def chisquared(routers, assumedClient, actualClient, sigma):\n",
    "    x,y,z = assumed\n",
    "    xreal, yreal, zreal = actual\n",
    "    Chi = 0\n",
    "    for xi,yi,zi in datapoint:\n",
    "        Si = getExpected(x,y,xi,yi,zi-z)\n",
    "        Pri = getMeasured(xreal,yreal,xi,yi,zreal-zi)\n",
    "        Chi += math.pow(Si-Pri,2)/math.pow(sigma,2)\n",
    "    return Chi\n",
    "\n",
    "routers = [[0, 0, 3],[ 0, 20, 3],[20, 0, 3],[20, 20, 3]]\n",
    "actualClient = [5,5,1]\n",
    "X = np.arange(-5,16,1)\n",
    "Chis = [[x, estimatePositionWithoutNoise(routers, [x,5,1], actualClient, 1, 20, 0)] for x in X]\n",
    "\n",
    "Chis = np.matrix(Chis)\n",
    "plt.plot(Chis[:,0],Chis[:,1]) \n",
    "plt.show()"
   ]
  },
  {
   "cell_type": "markdown",
   "metadata": {},
   "source": [
    "**Minimization**\n",
    "\n",
    "Nelder-Mead’ \n",
    "‘Powell’ \n",
    "‘CG’ \n",
    "‘BFGS’ \n",
    "‘Newton-CG’\n",
    "‘L-BFGS-B’ \n",
    "‘TNC’ \n",
    "‘COBYLA’\n",
    "‘SLSQP’ \n",
    "‘dogleg’\n",
    "‘trust-ncg’ "
   ]
  },
  {
   "cell_type": "code",
   "execution_count": null,
   "metadata": {
    "collapsed": true
   },
   "outputs": [],
   "source": [
    "def G(x):\n",
    "    # Some function is used as a place holder to give multiple parameters to minimization\n",
    "    # Returns function that returns a score (e.g. chi squared)\n",
    "    return actualFunction(x[0],x[1])\n",
    "\n",
    "results = []\n",
    "Chis = []\n",
    "\n",
    "for i in range(0,1000):\n",
    "    minimized = minimize(G,[x,y], method='Powell')\n",
    "    results.append(minimized.x) # optimized parameters\n",
    "    Chis.append(minimized.fun) # score of the parameter"
   ]
  },
  {
   "cell_type": "markdown",
   "metadata": {},
   "source": [
    "**Uncertainty**\n",
    "\n",
    "Sigma is the estimated measurement uncertainty"
   ]
  },
  {
   "cell_type": "code",
   "execution_count": null,
   "metadata": {
    "collapsed": true
   },
   "outputs": [],
   "source": [
    "def estimateUncertainty(group, position):\n",
    "    B11 = B12 = B13 = B21 = B22 = B23 = B31 = B32 = B33 = 0\n",
    "    for packet in group:\n",
    "        routerLocation = routers[packet['droneId']]\n",
    "        x = routerLocation[0]\n",
    "        y = routerLocation[1]\n",
    "        dFdx = # derivation of function to x (e.g. Friis equation)\n",
    "        dFdy = # derivation of function to y (e.g. Friis equation)\n",
    "        '''\n",
    "        dFdx = (40*(position[0] - x))/(math.log(10)*((position[0]-x)**2 + (position[1]-y)**2 + Z**2))\n",
    "        dFdy = (40*(position[1] - y))/(math.log(10)*((position[0]-x)**2 + (position[1]-y)**2 + Z**2))\n",
    "        '''\n",
    "        dFdPt = 1\n",
    "        B11 += (dFdx**2 * 1/(sigma**2))\n",
    "        B22 += (dFdy**2 * 1/(sigma**2))\n",
    "        B12 += (dFdx * dFdy * 1/(sigma**2))\n",
    "        B21 = B12\n",
    "        B13 += (dFdx * dFdPt * 1/(sigma**2))\n",
    "        B31 = B13\n",
    "        B23 += (dFdy * dFdPt * 1/(sigma**2))\n",
    "        B32 = B23\n",
    "        B33 += (dFdPt**2 * 1/(sigma**2))\n",
    "    \n",
    "    B = np.matrix([[B11,B12,B13],[B21,B22,B23],[B31,B32,B33]])\n",
    "    \n",
    "    vary, varx, varPt = np.diagonal(np.linalg.inv(B))\n",
    "    \n",
    "    stdsx.append(np.sqrt(varx))\n",
    "    stdsy.append(np.sqrt(vary))\n",
    "    stdsPt.append(np.sqrt(varPt))       \n"
   ]
  },
  {
   "cell_type": "markdown",
   "metadata": {},
   "source": [
    "**Pull Distribution**\n",
    "\n",
    "$\\frac{x - mean(X)}{std(X)}$\n",
    "\n",
    "The mean of the pull distribution is expected to be 0\n",
    "The std of the pull distribution is expected to be 1\n",
    "\n",
    "(Slides SDA3, slide 37)"
   ]
  },
  {
   "cell_type": "code",
   "execution_count": null,
   "metadata": {
    "collapsed": true
   },
   "outputs": [],
   "source": [
    "pulls = []\n",
    "\n",
    "for i in range(0,100):\n",
    "    pulls.add((x[i] - mean)/std)\n",
    "    \n",
    "plt.hist(pulls, bins=10)\n",
    "plt.show()"
   ]
  },
  {
   "cell_type": "markdown",
   "metadata": {},
   "source": [
    "**Read csv file**"
   ]
  },
  {
   "cell_type": "code",
   "execution_count": 1,
   "metadata": {
    "collapsed": true
   },
   "outputs": [],
   "source": [
    "def readAndFilterData(groupByTime=False):\n",
    "    reader = csv.reader(open('UvA-wifitracking-exercise-prepped-data.csv'));\n",
    "\n",
    "    # Read data\n",
    "    data = []\n",
    "    for entry in reader:\n",
    "        # Each entry holds one line of the comma seperated file in an array\n",
    "        # Each entry is stored as a dictionary and appended to the list\n",
    "        data.append({'seqNr': int(entry[3]), 'timeStamp': int(entry[5]), 'droneId': entry[6], 'signal': int(entry[7])})\n",
    "\n",
    "    # Sort by seqNr then measurementTimestamp\n",
    "    data = sorted(data, key=lambda entry: (entry['seqNr'], entry['timeStamp']))\n"
   ]
  },
  {
   "cell_type": "markdown",
   "metadata": {},
   "source": []
  },
  {
   "cell_type": "code",
   "execution_count": null,
   "metadata": {
    "collapsed": true
   },
   "outputs": [],
   "source": []
  }
 ],
 "metadata": {
  "anaconda-cloud": {},
  "kernelspec": {
   "display_name": "Python 2",
   "language": "python",
   "name": "python2"
  },
  "language_info": {
   "codemirror_mode": {
    "name": "ipython",
    "version": 2
   },
   "file_extension": ".py",
   "mimetype": "text/x-python",
   "name": "python",
   "nbconvert_exporter": "python",
   "pygments_lexer": "ipython2",
   "version": "2.7.11"
  }
 },
 "nbformat": 4,
 "nbformat_minor": 1
}
