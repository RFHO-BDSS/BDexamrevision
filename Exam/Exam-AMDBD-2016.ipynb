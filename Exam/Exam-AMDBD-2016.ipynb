{
 "cells": [
  {
   "cell_type": "code",
   "execution_count": 69,
   "metadata": {
    "collapsed": true
   },
   "outputs": [],
   "source": [
    "%matplotlib inline\n",
    "\n",
    "import scipy.constants\n",
    "import numpy as np\n",
    "import matplotlib.pyplot as plt\n",
    "import math\n",
    "import csv\n",
    "import scipy as sp\n",
    "from scipy.optimize import minimize\n",
    "from scipy.stats import norm\n",
    "from matplotlib.patches import Ellipse"
   ]
  },
  {
   "cell_type": "markdown",
   "metadata": {},
   "source": [
    "# Modeling hit rates"
   ]
  },
  {
   "cell_type": "markdown",
   "metadata": {},
   "source": [
    "The typical task of traders in a bank is to buy or sell financial products.  \n",
    "Among these products are government bonds, a debt security, under which the government owes the holders of the bond a debt and, depending on the terms of the bond, is obliged to pay them interest and/or to repay the principal at a later date, termed the maturity date.  \n",
    "In short traders buy or sell depts to other parties, that a government pays out at some later date.  \n",
    "\n",
    "A party who wants to buy or sell a bond places a Request For Quote (RFQ) on a trading platform.  \n",
    "Several banks can respond to the RFQ with their bid or ask price.  \n",
    "Generally the party trades with the bank that puts the most favourable price, the highest price if the party wants to sell, the lowest price if the party wants to buy.  \n",
    "Banks cannot see each other's prices when quoting their own price and only find out if they won the trade when the trade is done.\n",
    "\n",
    "Traders typically buy at a low price and sell at a higher price. This is how they make a profit.  \n",
    "Traders want to offer a favourable price in order to win the trade, but not too favourable since this diminishes the profit the trader can make on the bond, or even make a loss.  \n",
    "\n",
    "\n",
    "The difference between bid and ask price is called the spread, and prices are often normalized with respect to this spread.\n",
    "So 0% becomes the average bid price and 100% becomes the average ask price."
   ]
  },
  {
   "cell_type": "markdown",
   "metadata": {},
   "source": [
    "## The exercise"
   ]
  },
  {
   "cell_type": "markdown",
   "metadata": {},
   "source": [
    "You are a trader and you are going to model the probability for winning an RFQ, called the _hit rate_, depending on the normalized ask price.  \n",
    "Accompanied with this exercise you get a simulated ficticious dataset of prices that you have quoted in the past and whether you won or lost the trade at that price. \n",
    "You will fit your model in two ways ($\\chi^2$ and Maximum Likelihood) to the dataset.\n",
    "\n",
    "Some comments before you start:\n",
    "* Make sure all your plots have axis labels and legends and/or titles.  \n",
    "* It helps to add comments, notes and calculations/derivations. If your results are wrong, these may still give you partial credit.  \n",
    "* Read a sub-exercise first all the way through"
   ]
  },
  {
   "cell_type": "markdown",
   "metadata": {},
   "source": [
    "### Making plots"
   ]
  },
  {
   "cell_type": "markdown",
   "metadata": {},
   "source": [
    "#### a)\n",
    "Load the dataset and make two plots  \n",
    "1) A histogram of all your quoted prices  \n",
    "2) A histogram of your prices where you won the trade  \n",
    "\n",
    "Choose the range $80<\\text{price}<130$ and divide this into 40 price bins.  \n",
    "\n",
    "Draw your histograms with error bars  \n",
    "\n",
    "You can assume that the error for each bin is a Poisson error.\n",
    "Meaning that the error on the number of prices in each bin is the square root of that number of prices.\n",
    "\n",
    "_hint: numpy.histogram is an easy function to make histograms from data_  \n",
    "_hint: in matplotlib you can use the errorbar function for plotting_  \n"
   ]
  },
  {
   "cell_type": "code",
   "execution_count": 70,
   "metadata": {
    "collapsed": false
   },
   "outputs": [],
   "source": [
    "def readAndFilterData(min_price=0, max_price=0):\n",
    "    reader = csv.reader(open('Exam-data-2016.csv'));\n",
    "\n",
    "    data = []\n",
    "    skippedHeader = False\n",
    "\n",
    "    for entry in reader:\n",
    "        if not skippedHeader:\n",
    "            skippedHeader = True\n",
    "            continue\n",
    "        if (min_price > 0 and float(entry[0]) > min_price) and (max_price > 0 and float(entry[0]) < max_price):\n",
    "            data.append({'price': float(entry[0]), 'status': bool(entry[1] == 'won')})\n",
    "        elif min_price == 0 and max_price == 0:\n",
    "            data.append({'price': float(entry[0]), 'status': bool(entry[1] == 'won')})\n",
    "\n",
    "    return data\n"
   ]
  },
  {
   "cell_type": "code",
   "execution_count": 71,
   "metadata": {
    "collapsed": false
   },
   "outputs": [],
   "source": [
    "data_all = readAndFilterData()\n",
    "# print data\n",
    "\n",
    "data_80_130 = readAndFilterData(80,130)\n",
    "# print data_80_130"
   ]
  },
  {
   "cell_type": "code",
   "execution_count": 72,
   "metadata": {
    "collapsed": false
   },
   "outputs": [
    {
     "data": {
      "image/png": "[encoded data removed]",
      "text/plain": [
       "<matplotlib.figure.Figure at 0x1ab24358>"
      ]
     },
     "metadata": {},
     "output_type": "display_data"
    },
    {
     "data": {
      "image/png": "[encoded data removed]",
      "text/plain": [
       "<matplotlib.figure.Figure at 0x1b6bf400>"
      ]
     },
     "metadata": {},
     "output_type": "display_data"
    }
   ],
   "source": [
    "def plot_prices(data,title):\n",
    "    y,binEdges = np.histogram([x['price'] for x in data],bins=40)\n",
    "    bincenters = 0.5*(binEdges[1:]+binEdges[:-1])\n",
    "    menStd     = np.sqrt(y)\n",
    "    plt.bar(bincenters, y,  color='r', yerr=menStd) \n",
    "    plt.xlabel('Prices')\n",
    "    plt.ylabel('Frequency')\n",
    "    plt.title(title)\n",
    "    plt.show()\n",
    "\n",
    "plot_prices(data_all, 'all prices')\n",
    "plot_prices(data_80_130, '80 < prices < 130')"
   ]
  },
  {
   "cell_type": "markdown",
   "metadata": {},
   "source": [
    "#### b) \n",
    "For each price bin $i$ the hit rate $h_i$ can be estimated as the fraction of RFQs that you won.  \n",
    "Calculate the hit rate distribution, i.e. the hit rates for each price bin, and plot this.  \n",
    "\n",
    "Draw the hit rates with error bars.  \n",
    "\n",
    "You can estimate the uncertainties/errors $\\Delta h_i$ on these hit rates for each bin with __error propagation__ as follows:  \n",
    "If $f(x,y)$ is a function of random variable $x$ and $y$ and $\\mu_x$, $\\mu_y$ and $\\Delta x$, $\\Delta y$ are the means and the errors of these variables, then the error of $f(x,y)$ can be approximated with error propagation as  \n",
    "$\\Delta f \\approx \\sqrt{ \\left(\\frac{\\partial f}{\\partial x}(\\mu_x,\\mu_y)\\right)^2\\Delta x^2 + \\left(\\frac{\\partial f}{\\partial y}(\\mu_x,\\mu_y)\\right)^2\\Delta y^2 }$  \n",
    "Use this to estimate the errors on the hit rates.  "
   ]
  },
  {
   "cell_type": "code",
   "execution_count": 119,
   "metadata": {
    "collapsed": false
   },
   "outputs": [
    {
     "data": {
      "image/png": "[encoded data removed]",
      "text/plain": [
       "<matplotlib.figure.Figure at 0x1b58c8d0>"
      ]
     },
     "metadata": {},
     "output_type": "display_data"
    }
   ],
   "source": [
    "def rand_unc(size):\n",
    "    \n",
    "    # uncertainties not properly calculated, using random numbers for now\n",
    "    menStd = np.random.rand(size)\n",
    "    for i in range(len(menStd) - 1):\n",
    "        menStd[i + 1] = menStd[i] + menStd[i + 1]\n",
    "        \n",
    "    menStd = menStd / np.sum(menStd)\n",
    "    return menStd\n",
    "\n",
    "def plot_hit_rates(data,title):\n",
    "    y,binEdges = np.histogram([x['price'] for x in data],bins=40)\n",
    "    y_won, binEdges = np.histogram([x['price'] for x in data if x['status'] == True],bins=binEdges)\n",
    "    hits = [(1.0*x)/(1.0*y) for x, y in zip(y_won, y)]\n",
    "    bincenters = 0.5*(binEdges[1:]+binEdges[:-1])\n",
    "    \n",
    "    # incomplete, incorrect error function\n",
    "    #using random increasing uncertainties as dummy for now\n",
    "    menStd     = rand_unc(40) # randnp.sqrt(hits)\n",
    "    \n",
    "    plt.bar(bincenters, hits,  color='r', yerr=menStd) \n",
    "    plt.xlabel('Prices')\n",
    "    plt.ylabel('Hit Rates')\n",
    "    plt.title(title)\n",
    "    plt.show()\n",
    "    \n",
    "    return menStd\n",
    "\n",
    "# To save time this is and incomplete function, will return later if possible\n",
    "hit_err = plot_hit_rates(data_80_130, 'hit rates 80-130')\n",
    "# print hit_err"
   ]
  },
  {
   "cell_type": "code",
   "execution_count": null,
   "metadata": {
    "collapsed": true
   },
   "outputs": [],
   "source": []
  },
  {
   "cell_type": "code",
   "execution_count": null,
   "metadata": {
    "collapsed": true
   },
   "outputs": [],
   "source": []
  },
  {
   "cell_type": "markdown",
   "metadata": {},
   "source": [
    "### Chi-squared fit\n",
    "Looking at the hit rate plot it seems reasonable to model the hit rate with a sigmoid type function.  \n",
    "We are going to use the so called error function, which is the integral of a normal distribution.  \n",
    "$P_{\\text{win}}(x;\\mu,\\sigma) = \\int_{-\\infty}^x ds \\frac{e^{-\\frac{1}{2}\\frac{(s-\\mu)^2}{\\sigma^2}}}{\\sqrt{2\\pi}\\sigma}$\n",
    "\n",
    "Our hit rate model $P_{\\text{win}}(x;\\mu,\\sigma))$ contains two unknown parameters $\\mu$ and $\\sigma$ that we have to estimate.  \n",
    "\n",
    "_hint: You can use scipy.stats.norm for the normal distribution and its function cdf to calculate its integral_"
   ]
  },
  {
   "cell_type": "code",
   "execution_count": 105,
   "metadata": {
    "collapsed": false
   },
   "outputs": [
    {
     "name": "stdout",
     "output_type": "stream",
     "text": [
      "0.841313074827\n"
     ]
    }
   ],
   "source": [
    "def Pwin(x,mu,sigma):\n",
    "    return norm.cdf(x=x,loc=mu,scale=sigma) - norm.cdf(x=80,loc=mu,scale=sigma)\n",
    "\n",
    "\n",
    "print Pwin(130, 90,10)"
   ]
  },
  {
   "cell_type": "code",
   "execution_count": 130,
   "metadata": {
    "collapsed": false
   },
   "outputs": [
    {
     "name": "stdout",
     "output_type": "stream",
     "text": [
      "[ 0.          0.05155687  0.16428127  0.34669121  0.56517942  0.75889985\n",
      "  0.88603865  0.94779651  0.9699961   0.97589997]\n"
     ]
    }
   ],
   "source": [
    "# test = np.linspace(80,130,10)\n",
    "# Pwin_test = Pwin(test, 100, 10)\n",
    "# print Pwin_test"
   ]
  },
  {
   "cell_type": "markdown",
   "metadata": {},
   "source": [
    "#### c)  \n",
    "For every price bin $i$ we have a measured hit rate $h_i$ and uncertainty/error $\\Delta h_i$ from b),  \n",
    "and we have a predicted hit rate $P_{\\text{win}}(x_i;\\mu,\\sigma)$ (where $x_i$ is the center of the bin).  \n",
    "\n",
    "Write down the chi-squared for the model given the hit rates and uncertainties symbolically, i.e. in math."
   ]
  },
  {
   "cell_type": "markdown",
   "metadata": {},
   "source": [
    "$$\n",
    "\\chi^2 = \\sum_{i = 0}^{N_b} \\frac{\\left( h_i - P_{\\text{win}}(x_i;\\mu,\\sigma)\\right)^2}{\\Delta h_i}\n",
    "$$\n",
    "\n",
    "\n",
    "$$\n",
    "P_{\\text{win}}(x_i;\\mu,\\sigma) =  \\int_{-\\infty}^{x_i} ds \\frac{e^{-\\frac{1}{2}\\frac{(s-\\mu)^2}{\\sigma^2}}}{\\sqrt{2\\pi}\\sigma}\n",
    "$$"
   ]
  },
  {
   "cell_type": "code",
   "execution_count": 122,
   "metadata": {
    "collapsed": false
   },
   "outputs": [
    {
     "name": "stdout",
     "output_type": "stream",
     "text": [
      "56.6158245114\n"
     ]
    }
   ],
   "source": [
    "def chi(data, mu, sigma):\n",
    "    y,binEdges = np.histogram([x['price'] for x in data],bins=40)\n",
    "    y_won, binEdges = np.histogram([x['price'] for x in data if x['status'] == True],bins=binEdges)\n",
    "    hits = [(1.0*x)/(1.0*y) for x, y in zip(y_won, y)]\n",
    "    bincenters = 0.5*(binEdges[1:]+binEdges[:-1])\n",
    "    \n",
    "    \n",
    "    chi = 0\n",
    "    for i in range(len(bincenters)):\n",
    "        chi += math.pow((hits[i] - Pwin(bincenters[i],mu,sigma)),2) / hit_err[i]\n",
    "    \n",
    "    return chi\n",
    "\n",
    "print chi(data_80_130, 100, 20)"
   ]
  },
  {
   "cell_type": "markdown",
   "metadata": {},
   "source": [
    "#### d)  \n",
    "* Minimize the chi-squared from c) to find parameters $\\mu$ and $\\sigma$.  \n",
    "* Quote the parameters $\\mu$ and $\\sigma$ that you found.  \n",
    "* Plot the model with these values for $\\mu$ and $\\sigma$ on top of the hit rate distribution of b)  \n",
    "\n",
    "_Hint: You can for example use scipy.optimize.minimize for minimizing the chi-squared.  \n",
    "Hint: You are allowed to be pragmatic if your fit should not converge, e.g. choosing another price range or bin size may help, or anything else as long as you document what._\n"
   ]
  },
  {
   "cell_type": "code",
   "execution_count": 123,
   "metadata": {
    "collapsed": false
   },
   "outputs": [
    {
     "name": "stderr",
     "output_type": "stream",
     "text": [
      "C:\\Anaconda2\\lib\\site-packages\\scipy\\stats\\_distn_infrastructure.py:1671: RuntimeWarning: divide by zero encountered in double_scalars\n",
      "  x = (x-loc)*1.0/scale\n",
      "C:\\Anaconda2\\lib\\site-packages\\scipy\\stats\\_distn_infrastructure.py:1671: RuntimeWarning: invalid value encountered in double_scalars\n",
      "  x = (x-loc)*1.0/scale\n",
      "C:\\Anaconda2\\lib\\site-packages\\scipy\\optimize\\optimize.py:1783: RuntimeWarning: invalid value encountered in absolute\n",
      "  tmp2 = numpy.abs(tmp2)\n",
      "C:\\Anaconda2\\lib\\site-packages\\scipy\\optimize\\optimize.py:2104: RuntimeWarning: invalid value encountered in absolute\n",
      "  if numpy.abs(val) < _verysmall_num:\n",
      "C:\\Anaconda2\\lib\\site-packages\\scipy\\optimize\\optimize.py:2352: RuntimeWarning: invalid value encountered in absolute\n",
      "  bnd = ftol * (numpy.abs(fx) + numpy.abs(fval)) + 1e-20\n"
     ]
    }
   ],
   "source": [
    "def G(x):\n",
    "    # Some function is used as a place holder to give multiple parameters to minimization\n",
    "    # Returns function that returns a score (e.g. chi squared)\n",
    "    return chi(data_80_130,x[0],x[1])\n",
    "\n",
    "results = []\n",
    "Chis = []\n",
    "\n",
    "x = np.linspace(80,130,10)\n",
    "y = np.linspace(0,100,10)\n",
    "\n",
    "\n",
    "for i in range(0,5):\n",
    "    for j in range(0,5):\n",
    "        minimized = minimize(G,[x[2*i],y[2*j]], method='Powell')\n",
    "        results.append(minimized.x) # optimized parameters\n",
    "        Chis.append(minimized.fun) # score of the parameter"
   ]
  },
  {
   "cell_type": "code",
   "execution_count": 125,
   "metadata": {
    "collapsed": true
   },
   "outputs": [],
   "source": [
    "best_chi = min(Chis)\n",
    "best_params = results[Chis.index(best_chi)]"
   ]
  },
  {
   "cell_type": "code",
   "execution_count": 129,
   "metadata": {
    "collapsed": false
   },
   "outputs": [
    {
     "name": "stdout",
     "output_type": "stream",
     "text": [
      "best chi value given random uncertainties:  4.43168345604\n",
      "best params given random uncertainties:  [ 104.95124939    6.97807864]\n"
     ]
    }
   ],
   "source": [
    "print \"best chi value given random uncertainties: \", best_chi\n",
    "print \"best params given random uncertainties: \", best_params"
   ]
  },
  {
   "cell_type": "code",
   "execution_count": 132,
   "metadata": {
    "collapsed": true
   },
   "outputs": [],
   "source": [
    "def plot_hit_rates_with_model(data,title,mu,sigma):\n",
    "    y,binEdges = np.histogram([x['price'] for x in data],bins=40)\n",
    "    y_won, binEdges = np.histogram([x['price'] for x in data if x['status'] == True],bins=binEdges)\n",
    "    hits = [(1.0*x)/(1.0*y) for x, y in zip(y_won, y)]\n",
    "    bincenters = 0.5*(binEdges[1:]+binEdges[:-1])\n",
    "    \n",
    "    # incomplete, incorrect error function\n",
    "    #using random increasing uncertainties as dummy for now\n",
    "    menStd     = rand_unc(40) # randnp.sqrt(hits)\n",
    "    \n",
    "    plt.bar(bincenters, hits,  color='r', yerr=menStd) \n",
    "    plt.xlabel('Prices')\n",
    "    plt.ylabel('Hit Rates')\n",
    "    plt.title(title)\n",
    "    \n",
    "    \n",
    "    y = Pwin(bincenters,best_params[0], best_params[1])\n",
    "    plt.plot(bincenters,y)\n",
    "    plt.show()\n",
    "    \n",
    "    return menStd"
   ]
  },
  {
   "cell_type": "code",
   "execution_count": 133,
   "metadata": {
    "collapsed": false
   },
   "outputs": [
    {
     "data": {
      "image/png": "[encoded data removed]",
      "text/plain": [
       "<matplotlib.figure.Figure at 0x1b363f98>"
      ]
     },
     "metadata": {},
     "output_type": "display_data"
    }
   ],
   "source": [
    "\n",
    "hit_err = plot_hit_rates_with_model(data_80_130, 'hit rates 80-130',best_params[0], best_params[1])\n",
    "\n"
   ]
  },
  {
   "cell_type": "markdown",
   "metadata": {},
   "source": [
    "### Maximum likelihood fit\n",
    "Second you will estimated the parameters by performing a maximum likelihood fit.  \n",
    "\n",
    "According to our model, every price $x$ that you quoted and won happened with probability $P_{\\text{win}}(x;\\mu,\\sigma)$, \n",
    "and every price that you quoted and lost happened with probability $1-P_{\\text{win}}(x;\\mu,\\sigma)$.  \n",
    "The likelihood of all your quoted prices is the product of all these probabilities.  \n",
    "\n",
    "Maximimum likelihood estimation finds the parameters $\\mu$ and $\\sigma$ that maximizes this likelihood.  \n",
    "\n",
    "In practice we don't maximize the likelihood but the logarithm of the likelihood, the log-likelihood, since it turns the product into a sum.  \n",
    "And furthermore we don't maximize the log-likelihood but minimize the negative log-likelihood, since most algorithms minimize in stead of maximize.  "
   ]
  },
  {
   "cell_type": "code",
   "execution_count": null,
   "metadata": {
    "collapsed": true
   },
   "outputs": [],
   "source": []
  },
  {
   "cell_type": "markdown",
   "metadata": {},
   "source": [
    "#### e) \n",
    "* Write down the likelihood of your quoted prices symbolically.\n",
    "* Write down the negative log-likelihood of your quoted prices symbolically."
   ]
  },
  {
   "cell_type": "markdown",
   "metadata": {},
   "source": [
    "$$\n",
    "\\begin{aligned}\n",
    "\\mathcal{L}(x) &= P_{\\text{win}}(x;\\mu,\\sigma) \\times (1 - P_{\\text{win}}(x;\\mu,\\sigma))\\\\\n",
    "&= \\left[\\int_{-\\infty}^x ds \\frac{e^{-\\frac{1}{2}\\frac{(s-\\mu)^2}{\\sigma^2}}}{\\sqrt{2\\pi}\\sigma} \\right] \\times \\left[1 - \\int_{-\\infty}^x ds \\frac{e^{-\\frac{1}{2}\\frac{(s-\\mu)^2}{\\sigma^2}}}{\\sqrt{2\\pi}\\sigma} \\right]\\\\\n",
    "\\end{aligned}\n",
    "$$\n"
   ]
  },
  {
   "cell_type": "markdown",
   "metadata": {},
   "source": [
    "$$\n",
    "\\begin{aligned}\n",
    "\\log{\\mathcal{L}(x)} &= \\log{P_{\\text{win}}(x;\\mu,\\sigma)} + \\log{(1 - P_{\\text{win}}(x;\\mu,\\sigma))}\\\\\n",
    "&= - \\log{\\left[\\int_{-\\infty}^x ds \\frac{e^{-\\frac{1}{2}\\frac{(s-\\mu)^2}{\\sigma^2}}}{\\sqrt{2\\pi}\\sigma} \\right]} - \\log{\\left[1 - \\int_{-\\infty}^x ds \\frac{e^{-\\frac{1}{2}\\frac{(s-\\mu)^2}{\\sigma^2}}}{\\sqrt{2\\pi}\\sigma} \\right]}\\\\\n",
    "\\end{aligned}\n",
    "$$\n"
   ]
  },
  {
   "cell_type": "markdown",
   "metadata": {},
   "source": [
    "#### f)"
   ]
  },
  {
   "cell_type": "markdown",
   "metadata": {},
   "source": [
    "* Minimize the negative log-likelihood from e) to find parameters $\\mu$ and $\\sigma$.  \n",
    "* Quote the parameters $\\mu$ and $\\sigma$ that you found.  \n",
    "* Plot the model with these values for $\\mu$ and $\\sigma$ on top of the hit rate distribution of b) and the model with chi-squared fitted values from d)  "
   ]
  },
  {
   "cell_type": "code",
   "execution_count": null,
   "metadata": {
    "collapsed": true
   },
   "outputs": [],
   "source": [
    "def G(x):\n",
    "    # Some function is used as a place holder to give multiple parameters to minimization\n",
    "    # Returns function that returns a score (e.g. chi squared)\n",
    "    return actualFunction(x[0],x[1])\n",
    "\n",
    "results = []\n",
    "Chis = []\n",
    "\n",
    "for i in range(0,1000):\n",
    "    minimized = minimize(G,[x,y], method='Powell')\n",
    "    results.append(minimized.x) # optimized parameters\n",
    "    Chis.append(minimized.fun) # score of the parameter"
   ]
  },
  {
   "cell_type": "code",
   "execution_count": null,
   "metadata": {
    "collapsed": true
   },
   "outputs": [],
   "source": []
  },
  {
   "cell_type": "markdown",
   "metadata": {},
   "source": [
    "### Discussion"
   ]
  },
  {
   "cell_type": "markdown",
   "metadata": {},
   "source": [
    "#### g)\n",
    "Can you give advantages of both chi-squared and maximum likelihood fitting?  \n",
    "\n",
    "_Hint: When can you do a maximum likelihood fit and when can you not do a maximum likelihood fit?_"
   ]
  },
  {
   "cell_type": "markdown",
   "metadata": {},
   "source": [
    "**MLE**"
   ]
  },
  {
   "cell_type": "markdown",
   "metadata": {
    "collapsed": true
   },
   "source": [
    "**Pros**\n",
    "\n",
    "Maximum likelihood provides a consistent approach to parameter estimation problems. \n",
    "\n",
    "Maximum likelihood methods have desirable mathematical and optimality properties.\n",
    "\n",
    "They become minimum variance unbiased estimators as the sample size increases. \n",
    "\n",
    "They have approximate normal distributions and approximate sample variances that can be used to generate confidence bounds and hypothesis tests for the parameters.\n",
    "\n",
    "Several popular statistical software packages provide excellent algorithms for maximum likelihood estimates for many of the commonly used distributions. This helps mitigate the computational complexity of maximum likelihood estimation."
   ]
  },
  {
   "cell_type": "markdown",
   "metadata": {},
   "source": [
    "**Cons**\n",
    "\n",
    "The likelihood equations need to be specifically worked out for a given distribution and estimation problem. The mathematics is often non-trivial, particularly if confidence intervals for the parameters are desired.\n",
    "\n",
    "The numerical estimation is usually non-trivial. Except for a few cases where the maximum likelihood formulas are in fact simple, it is generally best to rely on high quality statistical software to obtain maximum likelihood estimates. Fortunately, high quality maximum likelihood software is becoming increasingly common.\n",
    "\n",
    "Maximum likelihood estimates can be heavily biased for small samples. The optimality properties may not apply for small samples.\n",
    "\n",
    "Maximum likelihood can be sensitive to the choice of starting values."
   ]
  },
  {
   "cell_type": "markdown",
   "metadata": {},
   "source": [
    "**Chi-Square**"
   ]
  },
  {
   "cell_type": "markdown",
   "metadata": {},
   "source": [
    "**Pros**\n",
    "\n",
    "Easier to compute than some statistics. \n",
    "\n",
    "Can be used with data that has been measured on a nominal (categorical) scale.\n",
    "\n",
    "Can be used to see if there is a “difference” between two or more groups of participants. \n",
    "\n",
    "Chi-square makes no assumptions about the distribution of the population. Other statistics assume certain characteristics about the distribution of the population such as normality (MLE)."
   ]
  },
  {
   "cell_type": "markdown",
   "metadata": {},
   "source": [
    "**Cons**\n",
    "\n",
    "All participants measured must be independent, meaning that an individual cannot fit in more than one category. \n",
    "\n",
    "Chi-square fitting requires that the data must be frequency data.\n",
    "\n",
    "When calculating the number of expected individuals for each class, there should be greater than 5 for each class for the most appropriate use of chi-square. \n",
    "\n",
    "Another consideration one must make is that the chi-square statistic is sensitive to sample size. \n",
    "\n",
    "Chi-square also assumes random sampling measurements must be selected randomly. \n",
    "\n",
    "Chi-square test does not give much information about the strength of the relationship. \n"
   ]
  },
  {
   "cell_type": "code",
   "execution_count": null,
   "metadata": {
    "collapsed": true
   },
   "outputs": [],
   "source": []
  }
 ],
 "metadata": {
  "kernelspec": {
   "display_name": "Python 2",
   "language": "python",
   "name": "python2"
  },
  "language_info": {
   "codemirror_mode": {
    "name": "ipython",
    "version": 2
   },
   "file_extension": ".py",
   "mimetype": "text/x-python",
   "name": "python",
   "nbconvert_exporter": "python",
   "pygments_lexer": "ipython2",
   "version": "2.7.11"
  }
 },
 "nbformat": 4,
 "nbformat_minor": 0
}
