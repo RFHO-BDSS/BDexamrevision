{
 "cells": [
  {
   "cell_type": "markdown",
   "metadata": {},
   "source": [
    "Give the Poisson process, i.e. the first order differential equation that\n",
    "results in P0(τ ), the probability that τ days after card purchase the card\n",
    "has not been used yet."
   ]
  },
  {
   "cell_type": "markdown",
   "metadata": {},
   "source": [
    "The probability $P(0; \\tau)$ of the card not being used at time $\\tau$ gives us\n",
    "\n",
    "$$\n",
    "\\frac{\\partial}{\\partial \\tau} P(0,\\tau) = -p(\\tau) P(0,\\tau)\n",
    "$$\n",
    "\n",
    "so\n",
    "\n",
    "$$\n",
    "\\int \\frac{1}{P(0,\\tau)}\\frac{\\partial}{\\partial \\tau} P(0,\\tau) \\partial \\tau = \\int -p(\\tau) \\partial \\tau\n",
    "$$\n",
    "\n",
    "$$\n",
    "\\begin{aligned}\n",
    "\\Rightarrow \\log{(P(0,\\tau))} &= \\int_{0}^{\\tau}-p(\\tau) \\partial\\tau\\\\\n",
    "P(0,\\tau) &= e^{\\int_{0}^{\\tau}-p(\\tau) \\partial\\tau}\\\\\n",
    "\\end{aligned}\n",
    "$$\n"
   ]
  },
  {
   "cell_type": "code",
   "execution_count": null,
   "metadata": {
    "collapsed": true
   },
   "outputs": [],
   "source": []
  },
  {
   "cell_type": "markdown",
   "metadata": {},
   "source": [
    "Give the Poisson process, i.e. the first order differential equation that\n",
    "results in Q0(τ ), the probability that τ days after card purchase the card\n",
    "has not been lost yet.\n"
   ]
  },
  {
   "cell_type": "markdown",
   "metadata": {},
   "source": [
    "\n",
    "$$\n",
    "\\frac{\\partial}{\\partial \\tau} Q(0,T) = -q Q(0,\\tau)\n",
    "$$\n",
    "\n",
    "so\n",
    "\n",
    "$$\n",
    "\\int \\frac{1}{Q(0,\\tau)}\\frac{\\partial}{\\partial \\tau} P(0,\\tau) \\partial \\tau = \\int -q \\partial \\tau\n",
    "$$\n",
    "\n",
    "$$\n",
    "\\begin{aligned}\n",
    "\\Rightarrow \\log{(Q(0,\\tau))} &= \\left[-q\\tau + C_0\\right]_{0}^{\\tau}\\\\\n",
    "Q(0,\\tau) &= e^{-q\\tau}\\\\\n",
    "\\end{aligned}\n",
    "$$\n"
   ]
  },
  {
   "cell_type": "code",
   "execution_count": null,
   "metadata": {
    "collapsed": true
   },
   "outputs": [],
   "source": []
  },
  {
   "cell_type": "markdown",
   "metadata": {},
   "source": [
    "Work out P(τ ) to arrive at\n",
    "P(τ ) = pe\n",
    "−qτ−\n",
    "p\n",
    "q (1−e\n",
    "−qτ )\n"
   ]
  },
  {
   "cell_type": "markdown",
   "metadata": {},
   "source": [
    "given $p(\\tau) = pe^{-q\\tau}$\n",
    "\n",
    "$$\n",
    "\\begin{aligned}\n",
    "P(\\tau) &= p(\\tau)e^{-\\int_{0}^{\\tau}p(s)\\partial s}\\\\\n",
    "&= pe^{-q\\tau}e^{-\\int_{0}^{\\tau}pe^{-qs}\\partial s}\\\\\n",
    "&= pe^{-q\\tau}e^{\\left[ \\frac{p}{q} e^{-qs} \\right]_{0}^{\\tau}} \\\\\n",
    "&= pe^{-q\\tau}e^{\\frac{p}{q} e^{-q\\tau} - \\frac{p}{q}} \\\\\n",
    "&= pe^{-q\\tau - \\frac{p}{q} \\left(1 - e^{-q\\tau}\\right)}\\\\\n",
    "\\end{aligned}\n",
    "$$"
   ]
  },
  {
   "cell_type": "code",
   "execution_count": null,
   "metadata": {
    "collapsed": true
   },
   "outputs": [],
   "source": []
  },
  {
   "cell_type": "markdown",
   "metadata": {},
   "source": [
    "Derive equation 4"
   ]
  },
  {
   "cell_type": "markdown",
   "metadata": {},
   "source": [
    "The probability of a card bought at $t_0$ and used at $t_1$ is the probability of being used in the time interval $\\tau = t_1 - t_0$ - the probability of not being used\n",
    "\n",
    "$$\n",
    "\\begin{aligned}\n",
    "P(1,\\tau) &= pe^{-q\\tau} - pe^{-q\\tau - \\frac{p}{q} \\left(1 - e^{-q\\tau}\\right)}\\\\\n",
    "&= pe^{-q\\tau}\\left(1 - e^{- \\frac{p}{q} \\left(1 - e^{-q\\tau}\\right)}\\right)\\\\\n",
    "\\Rightarrow Norm(\\tau) &= 1 - e^{- \\frac{p}{q} \\left(1 - e^{-q\\tau}\\right)}\\\\\n",
    "\\end{aligned}\n",
    "$$"
   ]
  },
  {
   "cell_type": "code",
   "execution_count": null,
   "metadata": {
    "collapsed": true
   },
   "outputs": [],
   "source": []
  },
  {
   "cell_type": "markdown",
   "metadata": {},
   "source": [
    "Derive equation 5"
   ]
  },
  {
   "cell_type": "markdown",
   "metadata": {},
   "source": [
    "$$\n",
    "\\begin{aligned}\n",
    "P(0,\\tau) &= 1 - Norm(\\tau) \\\\\n",
    "&= e^{- \\frac{p}{q} \\left(1 - e^{-q\\tau}\\right)} \\\\\n",
    "\\end{aligned}\n",
    "$$"
   ]
  },
  {
   "cell_type": "code",
   "execution_count": null,
   "metadata": {
    "collapsed": true
   },
   "outputs": [],
   "source": []
  },
  {
   "cell_type": "markdown",
   "metadata": {},
   "source": [
    "Read in the provided dataset and split it into two, one of cards that have\n",
    "been used, and one of cards that have not been used yet. You are allowed to\n",
    "express purchase and use days as the number of days since 3-3-2013 to avoid\n",
    "working with datetimes. (fuck datetimes)"
   ]
  },
  {
   "cell_type": "code",
   "execution_count": 10,
   "metadata": {
    "collapsed": true
   },
   "outputs": [],
   "source": [
    "%matplotlib inline\n",
    "\n",
    "import scipy.constants\n",
    "import numpy as np\n",
    "import matplotlib.pyplot as plt\n",
    "import math\n",
    "import csv\n",
    "import scipy as sp\n",
    "from scipy.optimize import minimize\n",
    "from matplotlib.patches import Ellipse\n",
    "from datetime import date"
   ]
  },
  {
   "cell_type": "code",
   "execution_count": 11,
   "metadata": {
    "collapsed": false
   },
   "outputs": [],
   "source": [
    "reader = csv.reader(open('tentamen_data.csv'));\n",
    "\n",
    "t0 = date(2013,3,3)\n",
    "t1 = date(2014,4,7)\n",
    "\n",
    "# Read data\n",
    "skippedHeader = False\n",
    "used = []\n",
    "unused = []\n",
    "\n",
    "for entry in reader:\n",
    "    if not skippedHeader:\n",
    "        skippedHeader = True\n",
    "        continue\n",
    "    purchased_date = date(int(entry[0][0:4]),int(entry[0][5:7]),int(entry[0][8:10]))\n",
    "    if entry[1]:\n",
    "        used_date = date(int(entry[1][0:4]),int(entry[1][5:7]),int(entry[1][8:10]))\n",
    "        #this is a hack to avoid card purchased and spent on the same day\n",
    "        #minimum 1 day existence for a card\n",
    "        used.append({'purchased' : (purchased_date - t0).days, 'used' : (used_date - t0).days + 1})\n",
    "    else:\n",
    "        unused.append({'purchased' : (purchased_date - t0).days})\n",
    "        \n",
    "        \n",
    "# for entry in unused:\n",
    "#     print entry['purchased']\n"
   ]
  },
  {
   "cell_type": "code",
   "execution_count": 23,
   "metadata": {
    "collapsed": false
   },
   "outputs": [],
   "source": [
    "# for entry in used:\n",
    "#     print entry"
   ]
  },
  {
   "cell_type": "markdown",
   "metadata": {},
   "source": [
    "Explain why the normalization factor is needed in equation 6."
   ]
  },
  {
   "cell_type": "markdown",
   "metadata": {},
   "source": [
    "**just a guess - think about this again**\n",
    "The normalization is needed because not all the time deltas will be the same so we need to normalize with respect to the evidence"
   ]
  },
  {
   "cell_type": "code",
   "execution_count": null,
   "metadata": {
    "collapsed": true
   },
   "outputs": [],
   "source": []
  },
  {
   "cell_type": "markdown",
   "metadata": {},
   "source": [
    "For the used cards minimize the log-likelihood of equation 7 to obtain your\n",
    "estimate of q and p."
   ]
  },
  {
   "cell_type": "code",
   "execution_count": null,
   "metadata": {
    "collapsed": false,
    "scrolled": true
   },
   "outputs": [],
   "source": [
    "def n(p,q):\n",
    "    return 1 - math.exp((-p / q) * (1 - math.exp(-q * (t1 - t0).days)))\n",
    "\n",
    "def P(p,q,tau):\n",
    "    return p * math.exp(-q*tau - (p/q) * (1 - math.exp(-q * tau)))\n",
    "\n",
    "\n",
    "def ll(p,q):\n",
    "    L = 0\n",
    "    for entry in used:\n",
    "        try:\n",
    "            L += math.log(P(p,q,entry['used'] - entry['purchased']) / n(p,q))#,entry['used'] - entry['purchased']))\n",
    "        except:\n",
    "            return float('inf')\n",
    "            \n",
    "    return (-2 * L)\n",
    "\n",
    "def G(x):\n",
    "    return ll(x[0],x[1])\n",
    "\n",
    "p = np.linspace(1,500,10) # range(1,10) # \n",
    "q = np.linspace(1,500,10) # range(1,10) #\n",
    "\n",
    "results = []\n",
    "mins = []\n",
    "\n",
    "for i in range(0,10):\n",
    "    minimized = minimize(G,[p[i],q[i]], method='Powell')\n",
    "    results.append(minimized.x) # optimized parameters\n",
    "    mins.append(minimized.fun) # score of the parameter"
   ]
  },
  {
   "cell_type": "code",
   "execution_count": 48,
   "metadata": {
    "collapsed": false
   },
   "outputs": [
    {
     "data": {
      "image/png": "[encoded data removed]",
      "text/plain": [
       "<matplotlib.figure.Figure at 0x1b798e10>"
      ]
     },
     "metadata": {},
     "output_type": "display_data"
    }
   ],
   "source": [
    "plt.hist(results, bins=10)\n",
    "plt.show()\n"
   ]
  },
  {
   "cell_type": "code",
   "execution_count": null,
   "metadata": {
    "collapsed": true
   },
   "outputs": [],
   "source": [
    "# plt.plot(range(1,100), mins)\n",
    "# plt.show()\n",
    "\n",
    "print mins"
   ]
  },
  {
   "cell_type": "code",
   "execution_count": null,
   "metadata": {
    "collapsed": true
   },
   "outputs": [],
   "source": []
  },
  {
   "cell_type": "code",
   "execution_count": null,
   "metadata": {
    "collapsed": true
   },
   "outputs": [],
   "source": []
  },
  {
   "cell_type": "code",
   "execution_count": null,
   "metadata": {
    "collapsed": true
   },
   "outputs": [],
   "source": []
  },
  {
   "cell_type": "code",
   "execution_count": null,
   "metadata": {
    "collapsed": true
   },
   "outputs": [],
   "source": []
  },
  {
   "cell_type": "code",
   "execution_count": null,
   "metadata": {
    "collapsed": true
   },
   "outputs": [],
   "source": []
  }
 ],
 "metadata": {
  "anaconda-cloud": {},
  "kernelspec": {
   "display_name": "Python 2",
   "language": "python",
   "name": "python2"
  },
  "language_info": {
   "codemirror_mode": {
    "name": "ipython",
    "version": 2
   },
   "file_extension": ".py",
   "mimetype": "text/x-python",
   "name": "python",
   "nbconvert_exporter": "python",
   "pygments_lexer": "ipython2",
   "version": "2.7.11"
  }
 },
 "nbformat": 4,
 "nbformat_minor": 0
}
