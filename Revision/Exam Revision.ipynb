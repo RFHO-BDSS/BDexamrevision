{
 "cells": [
  {
   "cell_type": "markdown",
   "metadata": {},
   "source": [
    "Give the Poisson process, i.e. the first order differential equation that\n",
    "results in P0(τ ), the probability that τ days after card purchase the card\n",
    "has not been used yet."
   ]
  },
  {
   "cell_type": "markdown",
   "metadata": {},
   "source": [
    "The probability $P(0; \\tau)$ of the card not being used at time $\\tau$ gives us\n",
    "\n",
    "$$\n",
    "\\frac{\\partial}{\\partial \\tau} P(0,\\tau) = -p(\\tau) P(0,\\tau)\n",
    "$$\n",
    "\n",
    "so\n",
    "\n",
    "$$\n",
    "\\int \\frac{1}{P(0,\\tau)}\\frac{\\partial}{\\partial \\tau} P(0,\\tau) \\partial \\tau = \\int -p(\\tau) \\partial \\tau\n",
    "$$\n",
    "\n",
    "$$\n",
    "\\begin{aligned}\n",
    "\\Rightarrow \\log{(P(0,\\tau))} &= \\int_{0}^{\\tau}-p(\\tau) \\partial\\tau\\\\\n",
    "P(0,\\tau) &= e^{\\int_{0}^{\\tau}-p(\\tau) \\partial\\tau}\\\\\n",
    "\\end{aligned}\n",
    "$$\n"
   ]
  },
  {
   "cell_type": "code",
   "execution_count": null,
   "metadata": {
    "collapsed": true
   },
   "outputs": [],
   "source": []
  },
  {
   "cell_type": "markdown",
   "metadata": {},
   "source": [
    "Give the Poisson process, i.e. the first order differential equation that\n",
    "results in Q0(τ ), the probability that τ days after card purchase the card\n",
    "has not been lost yet.\n"
   ]
  },
  {
   "cell_type": "markdown",
   "metadata": {},
   "source": [
    "\n",
    "$$\n",
    "\\frac{\\partial}{\\partial \\tau} Q(0,T) = -q Q(0,\\tau)\n",
    "$$\n",
    "\n",
    "so\n",
    "\n",
    "$$\n",
    "\\int \\frac{1}{Q(0,\\tau)}\\frac{\\partial}{\\partial \\tau} P(0,\\tau) \\partial \\tau = \\int -q \\partial \\tau\n",
    "$$\n",
    "\n",
    "$$\n",
    "\\begin{aligned}\n",
    "\\Rightarrow \\log{(Q(0,\\tau))} &= \\left[-q\\tau + C_0\\right]_{0}^{\\tau}\\\\\n",
    "Q(0,\\tau) &= e^{-q\\tau}\\\\\n",
    "\\end{aligned}\n",
    "$$\n"
   ]
  },
  {
   "cell_type": "code",
   "execution_count": null,
   "metadata": {
    "collapsed": true
   },
   "outputs": [],
   "source": []
  },
  {
   "cell_type": "markdown",
   "metadata": {},
   "source": [
    "Work out P(τ ) to arrive at\n",
    "P(τ ) = pe\n",
    "−qτ−\n",
    "p\n",
    "q (1−e\n",
    "−qτ )\n"
   ]
  },
  {
   "cell_type": "markdown",
   "metadata": {},
   "source": [
    "given $p(\\tau) = pe^{-q\\tau}$\n",
    "\n",
    "$$\n",
    "\\begin{aligned}\n",
    "P(\\tau) &= p(\\tau)e^{-\\int_{0}^{\\tau}p(s)\\partial s}\\\\\n",
    "&= pe^{-q\\tau}e^{-\\int_{0}^{\\tau}pe^{-qs}\\partial s}\\\\\n",
    "&= pe^{-q\\tau}e^{\\left[ \\frac{p}{q} e^{-qs} \\right]_{0}^{\\tau}} \\\\\n",
    "&= pe^{-q\\tau}e^{\\frac{p}{q} e^{-q\\tau} - \\frac{p}{q}} \\\\\n",
    "&= pe^{-q\\tau - \\frac{p}{q} \\left(1 - e^{-q\\tau}\\right)}\\\\\n",
    "\\end{aligned}\n",
    "$$"
   ]
  },
  {
   "cell_type": "code",
   "execution_count": null,
   "metadata": {
    "collapsed": true
   },
   "outputs": [],
   "source": []
  },
  {
   "cell_type": "markdown",
   "metadata": {},
   "source": [
    "Derive equation 4"
   ]
  },
  {
   "cell_type": "markdown",
   "metadata": {},
   "source": [
    "The probability of a card bought at $t_0$ and used at $t_1$ is the probability of being used in the time interval $\\tau = t_1 - t_0$ - the probability of not being used\n",
    "\n",
    "$$\n",
    "\\begin{aligned}\n",
    "P(1,\\tau) &= pe^{-q\\tau} - pe^{-q\\tau - \\frac{p}{q} \\left(1 - e^{-q\\tau}\\right)}\\\\\n",
    "&= pe^{-q\\tau}\\left(1 - e^{- \\frac{p}{q} \\left(1 - e^{-q\\tau}\\right)}\\right)\\\\\n",
    "\\Rightarrow Norm(\\tau) &= 1 - e^{- \\frac{p}{q} \\left(1 - e^{-q\\tau}\\right)}\\\\\n",
    "\\end{aligned}\n",
    "$$"
   ]
  },
  {
   "cell_type": "code",
   "execution_count": null,
   "metadata": {
    "collapsed": true
   },
   "outputs": [],
   "source": []
  },
  {
   "cell_type": "markdown",
   "metadata": {},
   "source": [
    "Derive equation 5"
   ]
  },
  {
   "cell_type": "markdown",
   "metadata": {},
   "source": [
    "$$\n",
    "\\begin{aligned}\n",
    "P(0,\\tau) &= 1 - Norm(\\tau) \\\\\n",
    "&= e^{- \\frac{p}{q} \\left(1 - e^{-q\\tau}\\right)} \\\\\n",
    "\\end{aligned}\n",
    "$$"
   ]
  },
  {
   "cell_type": "code",
   "execution_count": null,
   "metadata": {
    "collapsed": true
   },
   "outputs": [],
   "source": []
  },
  {
   "cell_type": "markdown",
   "metadata": {},
   "source": [
    "Read in the provided dataset and split it into two, one of cards that have\n",
    "been used, and one of cards that have not been used yet. You are allowed to\n",
    "express purchase and use days as the number of days since 3-3-2013 to avoid\n",
    "working with datetimes. (fuck datetimes)"
   ]
  },
  {
   "cell_type": "code",
   "execution_count": 49,
   "metadata": {
    "collapsed": true
   },
   "outputs": [],
   "source": [
    "%matplotlib inline\n",
    "\n",
    "import scipy.constants\n",
    "import numpy as np\n",
    "import matplotlib.pyplot as plt\n",
    "import math\n",
    "import csv\n",
    "import scipy as sp\n",
    "from scipy.optimize import minimize\n",
    "from matplotlib.patches import Ellipse\n",
    "from datetime import date"
   ]
  },
  {
   "cell_type": "code",
   "execution_count": 81,
   "metadata": {
    "collapsed": false
   },
   "outputs": [
    {
     "name": "stdout",
     "output_type": "stream",
     "text": [
      "23\n"
     ]
    }
   ],
   "source": [
    "reader = csv.reader(open('tentamen_data.csv'));\n",
    "\n",
    "t0 = date(2013,3,3)\n",
    "t1 = date(2014,4,7)\n",
    "\n",
    "# Read data\n",
    "skippedHeader = False\n",
    "used = []\n",
    "unused = []\n",
    "avg_used = 0\n",
    "\n",
    "for entry in reader:\n",
    "    if not skippedHeader:\n",
    "        skippedHeader = True\n",
    "        continue\n",
    "    purchased_date = date(int(entry[0][0:4]),int(entry[0][5:7]),int(entry[0][8:10]))\n",
    "    if entry[1]:\n",
    "        used_date = date(int(entry[1][0:4]),int(entry[1][5:7]),int(entry[1][8:10]))\n",
    "        #this is a hack to avoid card purchased and spent on the same day\n",
    "        #minimum 1 day existence for a card\n",
    "        used.append({'purchased' : (purchased_date - t0).days, 'used' : (used_date - t0).days + 1})\n",
    "        avg_used += (used_date - t0).days + 1 - (purchased_date - t0).days\n",
    "    else:\n",
    "        unused.append({'purchased' : (purchased_date - t0).days})\n",
    "\n",
    "avg_used /= len(used)\n",
    "print avg_used\n",
    "# for entry in unused:\n",
    "#     print entry['purchased']\n"
   ]
  },
  {
   "cell_type": "code",
   "execution_count": 51,
   "metadata": {
    "collapsed": false
   },
   "outputs": [],
   "source": [
    "# for entry in used:\n",
    "#     print entry"
   ]
  },
  {
   "cell_type": "markdown",
   "metadata": {},
   "source": [
    "Explain why the normalization factor is needed in equation 6."
   ]
  },
  {
   "cell_type": "markdown",
   "metadata": {},
   "source": [
    "**just a guess - think about this again**\n",
    "The normalization is needed because not all the time deltas will be the same so we need to normalize with respect to the evidence"
   ]
  },
  {
   "cell_type": "code",
   "execution_count": null,
   "metadata": {
    "collapsed": true
   },
   "outputs": [],
   "source": []
  },
  {
   "cell_type": "markdown",
   "metadata": {},
   "source": [
    "For the used cards minimize the log-likelihood of equation 7 to obtain your\n",
    "estimate of q and p."
   ]
  },
  {
   "cell_type": "code",
   "execution_count": 52,
   "metadata": {
    "collapsed": false,
    "scrolled": true
   },
   "outputs": [
    {
     "name": "stderr",
     "output_type": "stream",
     "text": [
      "C:\\Anaconda2\\lib\\site-packages\\ipykernel\\__main__.py:5: RuntimeWarning: invalid value encountered in double_scalars\n",
      "C:\\Anaconda2\\lib\\site-packages\\ipykernel\\__main__.py:2: RuntimeWarning: invalid value encountered in double_scalars\n",
      "  from ipykernel import kernelapp as app\n",
      "C:\\Anaconda2\\lib\\site-packages\\ipykernel\\__main__.py:5: RuntimeWarning: divide by zero encountered in double_scalars\n",
      "C:\\Anaconda2\\lib\\site-packages\\ipykernel\\__main__.py:2: RuntimeWarning: divide by zero encountered in double_scalars\n",
      "  from ipykernel import kernelapp as app\n"
     ]
    }
   ],
   "source": [
    "def n(p,q):\n",
    "    return 1 - math.exp((-p / q) * (1 - math.exp(-q * (t1 - t0).days)))\n",
    "\n",
    "def P(p,q,tau):\n",
    "    return p * math.exp(-q*tau - (p/q) * (1 - math.exp(-q * tau)))\n",
    "\n",
    "\n",
    "def ll(p,q):\n",
    "    L = 0\n",
    "    for entry in used:\n",
    "        try:\n",
    "            L += math.log(P(p,q,entry['used'] - entry['purchased']) / n(p,q))#,entry['used'] - entry['purchased']))\n",
    "        except:\n",
    "            return float('inf')\n",
    "            \n",
    "    return (-2 * L)\n",
    "\n",
    "def G(x):\n",
    "    return ll(x[0],x[1])\n",
    "\n",
    "samples = 5\n",
    "\n",
    "p = np.linspace(0,1,samples) # range(1,10) # \n",
    "q = np.linspace(0,1,samples) # range(1,10) #\n",
    "\n",
    "results = []\n",
    "mins = []\n",
    "\n",
    "for i in range(0,samples):\n",
    "    minimized = minimize(G,[p[i],q[i]], method='Powell')\n",
    "    results.append(minimized.x) # optimized parameters\n",
    "    mins.append(minimized.fun) # score of the parameter"
   ]
  },
  {
   "cell_type": "code",
   "execution_count": 53,
   "metadata": {
    "collapsed": false
   },
   "outputs": [
    {
     "data": {
      "image/png": "[encoded data removed]",
      "text/plain": [
       "<matplotlib.figure.Figure at 0x1ab99a90>"
      ]
     },
     "metadata": {},
     "output_type": "display_data"
    },
    {
     "name": "stdout",
     "output_type": "stream",
     "text": [
      "[array([ 0.02077728,  0.03702231]), array([ 0.02069022,  0.03696734]), array([ 0.02076837,  0.03700784]), array([ 0.02060772,  0.03707474]), array([ 0.02074887,  0.03699248])]\n"
     ]
    }
   ],
   "source": [
    "plt.hist(results, bins=2)\n",
    "plt.show()\n",
    "\n",
    "print results"
   ]
  },
  {
   "cell_type": "code",
   "execution_count": 54,
   "metadata": {
    "collapsed": false
   },
   "outputs": [
    {
     "data": {
      "image/png": "[encoded data removed]",
      "text/plain": [
       "<matplotlib.figure.Figure at 0x1a316080>"
      ]
     },
     "metadata": {},
     "output_type": "display_data"
    },
    {
     "name": "stdout",
     "output_type": "stream",
     "text": [
      "[array(47698.987015168896), array(47698.941510758144), array(47698.974691115254), array(47698.98317228243), array(47698.96133193614)]\n",
      "47698.9415108\n"
     ]
    }
   ],
   "source": [
    "plt.plot(range(0, samples),mins)\n",
    "plt.show()\n",
    "\n",
    "print mins\n",
    "print min(mins)"
   ]
  },
  {
   "cell_type": "code",
   "execution_count": 63,
   "metadata": {
    "collapsed": false
   },
   "outputs": [
    {
     "name": "stdout",
     "output_type": "stream",
     "text": [
      "min:  47698.9415108 ,  [ 0.02069022  0.03696734]\n",
      "avg:  47698.9695443 ,  [0.020777283738091193, 0.037022310745438061]\n"
     ]
    }
   ],
   "source": [
    "min_mins = min(mins)\n",
    "best_params = results[mins.index(min_mins)]\n",
    "avg_params = [np.mean(results[:][0][0]),np.mean(results[:][0][1])]\n",
    "\n",
    "print \"min: \", min_mins, \", \",best_params\n",
    "print \"avg: \", np.mean(mins), \", \", avg_params"
   ]
  },
  {
   "cell_type": "code",
   "execution_count": null,
   "metadata": {
    "collapsed": true
   },
   "outputs": [],
   "source": []
  },
  {
   "cell_type": "markdown",
   "metadata": {
    "collapsed": true
   },
   "source": [
    "Use your estimates of q and p to estimate how many of the unused cards\n",
    "will never be used in the future, and the amount of money that can be\n",
    "deducted from the balance"
   ]
  },
  {
   "cell_type": "code",
   "execution_count": 56,
   "metadata": {
    "collapsed": false
   },
   "outputs": [
    {
     "name": "stdout",
     "output_type": "stream",
     "text": [
      "total held:  42530\n",
      "expected spent:  39412.1778761\n",
      "expected unspent:  3117.82212389\n"
     ]
    }
   ],
   "source": [
    "def Pn(p,q,t):\n",
    "    return math.exp(-(p/q)*math.exp(-q * ((t1 - t0).days - t)))\n",
    "\n",
    "Pnevers = []\n",
    "\n",
    "for entry in unused:\n",
    "    # entry['purchased'], \n",
    "    Pnevers.append(Pn(avg_params[0],avg_params[1],entry['purchased']))\n",
    "    \n",
    "    \n",
    "total_unused = len(unused) * 10\n",
    "print \"total held: \", total_unused\n",
    "print \"expected spent: \", np.mean(Pnevers)*total_unused\n",
    "print \"expected unspent: \", total_unused*(1-np.mean(Pnevers))\n",
    " \n"
   ]
  },
  {
   "cell_type": "code",
   "execution_count": 60,
   "metadata": {
    "collapsed": false
   },
   "outputs": [
    {
     "data": {
      "image/png": "[encoded data removed]",
      "text/plain": [
       "<matplotlib.figure.Figure at 0x1b89d5f8>"
      ]
     },
     "metadata": {},
     "output_type": "display_data"
    }
   ],
   "source": [
    "plt.hist(Pnevers,bins=50)\n",
    "plt.show()\n",
    "\n"
   ]
  },
  {
   "cell_type": "code",
   "execution_count": null,
   "metadata": {
    "collapsed": false
   },
   "outputs": [],
   "source": []
  },
  {
   "cell_type": "markdown",
   "metadata": {},
   "source": [
    "Write a Monte Carlo simulation that randomly generates a use day according\n",
    "to P(t − t0) of equation 3 for each gift card in the entire dataset\n",
    "using q0 and p0 for the model parameters.\n"
   ]
  },
  {
   "cell_type": "code",
   "execution_count": null,
   "metadata": {
    "collapsed": false
   },
   "outputs": [
    {
     "name": "stdout",
     "output_type": "stream",
     "text": [
      "{'used': 77, 'purchased': 64}\n",
      "{'used': 120, 'purchased': 99}\n",
      "{'used': 249, 'purchased': 220}\n",
      "{'used': 400, 'purchased': 385}\n",
      "{'used': 181, 'purchased': 135}\n",
      "{'used': 84, 'purchased': 65}\n",
      "{'used': 201, 'purchased': 170}\n",
      "{'used': 367, 'purchased': 358}\n",
      "{'used': 143, 'purchased': 124}\n",
      "{'used': 251, 'purchased': 228}\n",
      "{'used': 269, 'purchased': 266}\n",
      "{'purchased': 144}\n",
      "{'purchased': 363}\n",
      "{'purchased': 390}"
     ]
    }
   ],
   "source": [
    "MC_sim = []\n",
    "\n",
    "# def H()\n",
    "\n",
    "\n",
    "print \"used error cases: \"\n",
    "for entry in used:\n",
    "    def H(t):\n",
    "        d = np.random.rand()\n",
    "        return abs(d - P(avg_params[0],avg_params[1],t))\n",
    "    try:\n",
    "        minimized = minimize(H, avg_used, method='Powell', bounds=(0,None))\n",
    "#         print minimized.x\n",
    "        MC_sim.append({'purchased' : entry['purchased'], 'used' : minimized.x})\n",
    "    \n",
    "    except:\n",
    "        print entry\n",
    "\n",
    "print \"unused error cases: \"\n",
    "for entry in unused:\n",
    "    def H(t):\n",
    "        d = np.random.rand()\n",
    "        return abs(d - P(avg_params[0],avg_params[1],t))\n",
    "    try:\n",
    "        minimized = minimize(H, avg_used, method='Powell', bounds=(0,None))\n",
    "        MC_sim.append({'purchased' : entry['purchased'], 'used' : minimized.x})\n",
    "    except:\n",
    "        print entry\n",
    " "
   ]
  },
  {
   "cell_type": "code",
   "execution_count": null,
   "metadata": {
    "collapsed": true
   },
   "outputs": [],
   "source": []
  },
  {
   "cell_type": "code",
   "execution_count": null,
   "metadata": {
    "collapsed": true
   },
   "outputs": [],
   "source": []
  }
 ],
 "metadata": {
  "anaconda-cloud": {},
  "kernelspec": {
   "display_name": "Python 2",
   "language": "python",
   "name": "python2"
  },
  "language_info": {
   "codemirror_mode": {
    "name": "ipython",
    "version": 2
   },
   "file_extension": ".py",
   "mimetype": "text/x-python",
   "name": "python",
   "nbconvert_exporter": "python",
   "pygments_lexer": "ipython2",
   "version": "2.7.11"
  }
 },
 "nbformat": 4,
 "nbformat_minor": 0
}
